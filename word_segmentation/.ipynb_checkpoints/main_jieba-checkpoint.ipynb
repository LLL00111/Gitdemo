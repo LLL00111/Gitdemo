{
 "cells": [
  {
   "cell_type": "markdown",
   "id": "9fd9502a-8bcb-4e9f-9a20-0038013ad4ab",
   "metadata": {},
   "source": [
    "# 结巴分词实践"
   ]
  },
  {
   "cell_type": "markdown",
   "id": "fd9173a3-1830-4793-8a8f-7fdd5b462988",
   "metadata": {},
   "source": [
    "## 结巴分词的三种模式"
   ]
  },
  {
   "cell_type": "markdown",
   "id": "2da96a8d-f4f7-44e4-a8ff-5b6d3959f7c2",
   "metadata": {},
   "source": [
    "### 精确模式"
   ]
  },
  {
   "cell_type": "code",
   "execution_count": null,
   "id": "c3334273-f61b-4648-b15a-56ac465f17fc",
   "metadata": {},
   "outputs": [],
   "source": [
    "import jieba\n",
    "seg_list = jieba.cut(\"我来到北京清华大学\", cut_all=False)\n",
    "print(\"Default Mode: \" + \"/ \".join(seg_list))"
   ]
  },
  {
   "cell_type": "markdown",
   "id": "9f632e35-7946-4a01-a3fb-f4245a31dad2",
   "metadata": {},
   "source": [
    "### 全模式"
   ]
  },
  {
   "cell_type": "code",
   "execution_count": null,
   "id": "f1b5ef0f-5e9b-4f52-8336-3aaf8535df71",
   "metadata": {},
   "outputs": [],
   "source": [
    "import jieba\n",
    "seg_list = jieba.cut(\"我来到北京清华大学\", cut_all=True)\n",
    "print(\"Full Mode: \" + \"/ \".join(seg_list))"
   ]
  },
  {
   "cell_type": "markdown",
   "id": "fbfc2e4e-542e-4bda-b256-1ae7cb521693",
   "metadata": {},
   "source": [
    "### 搜索引擎模式"
   ]
  },
  {
   "cell_type": "code",
   "execution_count": null,
   "id": "cd296c90-9945-47bd-8fb6-2399b9c62776",
   "metadata": {},
   "outputs": [],
   "source": [
    "import jieba\n",
    "seg_list = jieba.cut_for_search(\"小明硕士毕业于中国科学院计算所，后在日本京都大学深造\")\n",
    "print(\", \".join(seg_list))"
   ]
  }
 ],
 "metadata": {
  "kernelspec": {
   "display_name": "Python 3 (ipykernel)",
   "language": "python",
   "name": "python3"
  },
  "language_info": {
   "codemirror_mode": {
    "name": "ipython",
    "version": 3
   },
   "file_extension": ".py",
   "mimetype": "text/x-python",
   "name": "python",
   "nbconvert_exporter": "python",
   "pygments_lexer": "ipython3",
   "version": "3.9.21"
  }
 },
 "nbformat": 4,
 "nbformat_minor": 5
}
