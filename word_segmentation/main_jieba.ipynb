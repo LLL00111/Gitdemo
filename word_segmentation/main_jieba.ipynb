{
 "cells": [
  {
   "cell_type": "markdown",
   "id": "9fd9502a-8bcb-4e9f-9a20-0038013ad4ab",
   "metadata": {},
   "source": [
    "# 结巴分词实践"
   ]
  },
  {
   "cell_type": "markdown",
   "id": "fd9173a3-1830-4793-8a8f-7fdd5b462988",
   "metadata": {},
   "source": [
    "## 结巴分词的三种模式"
   ]
  },
  {
   "cell_type": "markdown",
   "id": "2da96a8d-f4f7-44e4-a8ff-5b6d3959f7c2",
   "metadata": {},
   "source": [
    "### 精确模式"
   ]
  },
  {
   "cell_type": "code",
   "execution_count": 3,
   "id": "c3334273-f61b-4648-b15a-56ac465f17fc",
   "metadata": {},
   "outputs": [
    {
     "name": "stdout",
     "output_type": "stream",
     "text": [
      "Default Mode: 我/ 来到/ 北京/ 清华大学\n"
     ]
    }
   ],
   "source": [
    "import jieba\n",
    "seg_list = jieba.cut(\"我来到北京清华大学\", cut_all=False)\n",
    "print(\"Default Mode: \" + \"/ \".join(seg_list))"
   ]
  },
  {
   "cell_type": "markdown",
   "id": "9f632e35-7946-4a01-a3fb-f4245a31dad2",
   "metadata": {},
   "source": [
    "### 全模式"
   ]
  },
  {
   "cell_type": "code",
   "execution_count": 1,
   "id": "f1b5ef0f-5e9b-4f52-8336-3aaf8535df71",
   "metadata": {},
   "outputs": [
    {
     "name": "stderr",
     "output_type": "stream",
     "text": [
      "Building prefix dict from the default dictionary ...\n",
      "Loading model from cache C:\\Users\\57589\\AppData\\Local\\Temp\\jieba.cache\n",
      "Loading model cost 0.939 seconds.\n",
      "Prefix dict has been built successfully.\n"
     ]
    },
    {
     "name": "stdout",
     "output_type": "stream",
     "text": [
      "Full Mode: 我/ 来到/ 北京/ 清华/ 清华大学/ 华大/ 大学\n"
     ]
    }
   ],
   "source": [
    "import jieba\n",
    "seg_list = jieba.cut(\"我来到北京清华大学\", cut_all=True)\n",
    "print(\"Full Mode: \" + \"/ \".join(seg_list))"
   ]
  },
  {
   "cell_type": "markdown",
   "id": "fbfc2e4e-542e-4bda-b256-1ae7cb521693",
   "metadata": {},
   "source": [
    "### 搜索引擎模式"
   ]
  },
  {
   "cell_type": "code",
   "execution_count": 2,
   "id": "cd296c90-9945-47bd-8fb6-2399b9c62776",
   "metadata": {},
   "outputs": [
    {
     "name": "stdout",
     "output_type": "stream",
     "text": [
      "小明, 硕士, 毕业, 于, 中国, 科学, 学院, 科学院, 中国科学院, 计算, 计算所, ，, 后, 在, 日本, 京都, 大学, 日本京都大学, 深造\n"
     ]
    }
   ],
   "source": [
    "import jieba\n",
    "seg_list = jieba.cut_for_search(\"小明硕士毕业于中国科学院计算所，后在日本京都大学深造\")\n",
    "print(\", \".join(seg_list))"
   ]
  },
  {
   "cell_type": "markdown",
   "id": "7cf90d7d-bc75-4320-bc9b-c56a870d82cf",
   "metadata": {},
   "source": [
    "## 载入词典"
   ]
  },
  {
   "cell_type": "code",
   "execution_count": 5,
   "id": "55a6484a-b964-4ca1-a606-26abe48d2036",
   "metadata": {},
   "outputs": [
    {
     "name": "stdout",
     "output_type": "stream",
     "text": [
      "载入词典后分词结果: 唐/ 玄/ 霖/ 即将/ 是/ 自然语言/ 处理/ 方面/ 的/ 高手\n"
     ]
    }
   ],
   "source": [
    "import jieba\n",
    "\n",
    "# 加载自定义词典\n",
    "jieba.load_userdict(\"userdict.txt\")\n",
    "\n",
    "# 待分词的句子\n",
    "sentence = \"唐玄霖即将是自然语言处理方面的高手\"\n",
    "\n",
    "# 进行分词，设置 HMM 为 False\n",
    "seg_list = jieba.cut(sentence, cut_all=False, HMM=False)\n",
    "\n",
    "# 输出分词结果\n",
    "print(\"载入词典后分词结果: \" + \"/ \".join(seg_list))"
   ]
  },
  {
   "cell_type": "markdown",
   "id": "e875cb7c-0bc5-463e-998f-3fd6990722ac",
   "metadata": {},
   "source": [
    "## 关键词提取"
   ]
  },
  {
   "cell_type": "code",
   "execution_count": 6,
   "id": "c6700c11-db57-4d93-9d92-94cdcef1cca1",
   "metadata": {},
   "outputs": [
    {
     "name": "stdout",
     "output_type": "stream",
     "text": [
      "重点, 大学, 国家, 河北省, 共建\n"
     ]
    }
   ],
   "source": [
    "import jieba.analyse\n",
    "sentence = \"燕山大学是河北省人民政府、教育部、工业和信息化部、国家国防科技工业局四方共建的全国重点大学，河北省重点支持的国家一流大学和世界一流学科建设高校，北京高科大学联盟成员。\"\n",
    "keywords = jieba.analyse.textrank(sentence, topK=5, withWeight=False)\n",
    "print(\", \".join(keywords))"
   ]
  }
 ],
 "metadata": {
  "kernelspec": {
   "display_name": "Python 3 (ipykernel)",
   "language": "python",
   "name": "python3"
  },
  "language_info": {
   "codemirror_mode": {
    "name": "ipython",
    "version": 3
   },
   "file_extension": ".py",
   "mimetype": "text/x-python",
   "name": "python",
   "nbconvert_exporter": "python",
   "pygments_lexer": "ipython3",
   "version": "3.9.21"
  }
 },
 "nbformat": 4,
 "nbformat_minor": 5
}
